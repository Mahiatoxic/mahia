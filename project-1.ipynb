{
 "cells": [
  {
   "cell_type": "code",
   "execution_count": null,
   "metadata": {},
   "outputs": [],
   "source": [
    "import pyaudio\n",
    "import speech_recognition as sr\n",
    "\n",
    "#voice recognition\n",
    "\n",
    "ear = sr.Recognizer()\n",
    "print(\"درحال گوش کردن..\")\n",
    "\n",
    "with sr.Microphone () as sourse :\n",
    "    ear.pause_Threshold =1\n",
    "    audio = ear .listen(sourse)\n",
    "\n",
    "print(\"در حال پردازش صدا...\")\n",
    "\n",
    "#Automatic language detection\n",
    "try :\n",
    "      text =ear.recognize_google(audio,language ='fa_IR')\n",
    "      print(text)\n",
    "\n",
    "\n",
    "except:\n",
    "     print(\"متوجه نشدم...\")\n",
    "\n",
    "\n",
    "from deep_translator import GoogleTranslator\n",
    "\n",
    "#Translate to English\n",
    "\n",
    "print(\"درحال ترجمه...\")\n",
    "en= GoogleTranslator (sourse=\"auto\" ,target =\"en\").translate(text)\n",
    "print(en)\n",
    "\n",
    "import pyttsx3 as tts\n",
    "\n",
    "#Convert speech to text\n",
    "\n",
    "engine=tts.init()\n",
    "engine.say(en)\n",
    "engine.runAndWait()"
   ]
  }
 ],
 "metadata": {
  "kernelspec": {
   "display_name": "Python 3",
   "language": "python",
   "name": "python3"
  },
  "language_info": {
   "codemirror_mode": {
    "name": "ipython",
    "version": 3
   },
   "file_extension": ".py",
   "mimetype": "text/x-python",
   "name": "python",
   "nbconvert_exporter": "python",
   "pygments_lexer": "ipython3",
   "version": "3.8.8"
  }
 },
 "nbformat": 4,
 "nbformat_minor": 2
}
